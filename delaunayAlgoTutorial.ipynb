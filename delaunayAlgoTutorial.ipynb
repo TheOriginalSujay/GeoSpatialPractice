{
 "cells": [
  {
   "cell_type": "code",
   "execution_count": null,
   "metadata": {
    "collapsed": true
   },
   "outputs": [],
   "source": [
    "# credits to KEVIN DWYER at http://blog.thehumangeo.com/2014/05/12/drawing-boundaries-in-python/ for this tutorial\n",
    "# code for this entire notebook is copied and/or modified from his tutorial and is being used for learning and practice purposes\n",
    "import fiona\n",
    "import shapely.geometry as geometry\n",
    "input_shapefile = 'simple_points.qgz'\n",
    "shapefile = fiona.open(input_shapefile)\n",
    "points = [geometry.shape(point['geometry'])\n",
    "          for point in shapefile]\n",
    "\n"
   ]
  },
  {
   "cell_type": "code",
   "execution_count": null,
   "metadata": {},
   "outputs": [],
   "source": [
    "import pylab as p1\n",
    "x = [p.coords.xy[0] for p in points]\n",
    "y = [p.coords.xy[1] for p in points]\n",
    "p1.figure(figsize=(10,10))\n",
    "_=p1.plot(x,y,'o', color='#f16824')"
   ]
  },
  {
   "cell_type": "code",
   "execution_count": null,
   "metadata": {},
   "outputs": [],
   "source": [
    "point_collection = geometry.MultiPoint(list(points))\n",
    "point_collection.envelope"
   ]
  },
  {
   "cell_type": "code",
   "execution_count": null,
   "metadata": {},
   "outputs": [],
   "source": [
    "from descartes import PolygonPatch \n",
    "def plot_polygon(polygon):\n",
    "    fig = p1.figure(figsize=(10,10))\n",
    "    ax = fig.add_subplot(111)\n",
    "    margin = 0.3\n",
    "    x_min, y_min, x_max, y_max = polygon.bounds\n",
    "    ax.set_xlim([x_min-margin, x_max+margin])\n",
    "    ax.set_ylim([y_min-margin, y_max+margin])\n",
    "    patch = PolygonPatch(polygon, fc='#999999',\n",
    "                         ec='#000000', fill=True, \n",
    "                         zorder=-1)\n",
    "    ax.add_patch(patch)\n",
    "    return fig\n",
    "\n",
    "_ = plot_polygon(point_collection.envelope)\n",
    "_ = p1.plot(x,y,'o', color='#f16824')"
   ]
  },
  {
   "cell_type": "code",
   "execution_count": null,
   "metadata": {},
   "outputs": [],
   "source": []
  },
  {
   "cell_type": "code",
   "execution_count": null,
   "metadata": {},
   "outputs": [],
   "source": []
  },
  {
   "cell_type": "code",
   "execution_count": null,
   "metadata": {},
   "outputs": [],
   "source": []
  },
  {
   "cell_type": "code",
   "execution_count": null,
   "metadata": {},
   "outputs": [],
   "source": []
  },
  {
   "cell_type": "code",
   "execution_count": null,
   "metadata": {},
   "outputs": [],
   "source": []
  }
 ],
 "metadata": {
  "kernelspec": {
   "display_name": "Python 2",
   "language": "python",
   "name": "python2"
  },
  "language_info": {
   "codemirror_mode": {
    "name": "ipython",
    "version": 2
   },
   "file_extension": ".py",
   "mimetype": "text/x-python",
   "name": "python",
   "nbconvert_exporter": "python",
   "pygments_lexer": "ipython2",
   "version": "2.7.6"
  }
 },
 "nbformat": 4,
 "nbformat_minor": 0
}
