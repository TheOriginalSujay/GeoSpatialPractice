{
 "cells": [
  {
   "cell_type": "code",
   "execution_count": null,
   "metadata": {
    "collapsed": true
   },
   "outputs": [],
   "source": [
    "# credits to KEVIN DWYER at http://blog.thehumangeo.com/2014/05/12/drawing-boundaries-in-python/ for this tutorial\n",
    "# code for this entire notebook is copied and/or modified from his tutorial and is being used for learning and practice purposes\n",
    "import fiona\n",
    "import shapely.geometry as geometry\n",
    "input_shapefile = 'simple_points.qgz'\n",
    "shapefile = fiona.open(input_shapefile)\n",
    "points = [geometry.shape(point['geometry'])\n",
    "          for point in shapefile]\n",
    "\n"
   ]
  },
  {
   "cell_type": "code",
   "execution_count": null,
   "metadata": {},
   "outputs": [],
   "source": [
    "import pylab as p1\n",
    "x = [p.coords.xy[0] for p in points]\n",
    "y = [p.coords.xy[1] for p in points]\n",
    "p1.figure(figsize=(10,10))\n",
    "_=p1.plot(x,y,'o', color='#f16824')"
   ]
  },
  {
   "cell_type": "code",
   "execution_count": null,
   "metadata": {},
   "outputs": [],
   "source": [
    "point_collection = geometry.MultiPoint(list(points))\n",
    "point_collection.envelope"
   ]
  },
  {
   "cell_type": "code",
   "execution_count": null,
   "metadata": {},
   "outputs": [],
   "source": [
    "from descartes import PolygonPatch \n",
    "def plot_polygon(polygon):\n",
    "    fig = p1.figure(figsize=(10,10))\n",
    "    ax = fig.add_subplot(111)\n",
    "    margin = 0.3\n",
    "    x_min, y_min, x_max, y_max = polygon.bounds\n",
    "    ax.set_xlim([x_min-margin, x_max+margin])\n",
    "    ax.set_ylim([y_min-margin, y_max+margin])\n",
    "    patch = PolygonPatch(polygon, fc='#999999',\n",
    "                         ec='#000000', fill=True, \n",
    "                         zorder=-1)\n",
    "    ax.add_patch(patch)\n",
    "    return fig\n",
    "\n",
    "_ = plot_polygon(point_collection.envelope)\n",
    "_ = p1.plot(x,y,'o', color='#f16824')"
   ]
  },
  {
   "cell_type": "code",
   "execution_count": null,
   "metadata": {},
   "outputs": [],
   "source": [
    "convex_hull_polygon = point_collection.convex_hull\n",
    "_ = plot_polygon(convex_hull_polygon)\n",
    "= p1.plot(x,y,'o', color='#f16824')"
   ]
  },
  {
   "cell_type": "code",
   "execution_count": null,
   "metadata": {},
   "outputs": [],
   "source": [
    "from shapely.ops import cascaded_union, polygonize\n",
    "from scipy.spatial import Delaunay\n",
    "import numpy as np\n",
    "import math\n",
    "def alpha_shape(points, alpha):\n",
    "    \"\"\"\n",
    "    Compute the alpha shape (concave hull) of a set\n",
    "    of points.\n",
    "    @param points: Iterable container of points.\n",
    "    @param alpha: alpha value to influence the\n",
    "        gooeyness of the border. Smaller numbers\n",
    "        don't fall inward as much as larger numbers.\n",
    "        Too large, and you lose everything!\n",
    "    \"\"\"\n",
    "    if len(points) < 4:\n",
    "        # When you have a triangle, there is no sense\n",
    "        # in computing an alpha shape.\n",
    "        return geometry.MultiPoint(list(points))\n",
    "               .convex_hull\n",
    "    def add_edge(edges, edge_points, coords, i, j):\n",
    "        \"\"\"\n",
    "        Add a line between the i-th and j-th points,\n",
    "        if not in the list already\n",
    "        \"\"\"\n",
    "            if (i, j) in edges or (j, i) in edges:\n",
    "                # already added\n",
    "                return\n",
    "            edges.add( (i, j) )\n",
    "            edge_points.append(coords[ [i, j] ])\n",
    "    coords = np.array([point.coords[0]\n",
    "                       for point in points])\n",
    "    tri = Delaunay(coords)\n",
    "    edges = set()\n",
    "    edge_points = []\n",
    "    # loop over triangles:\n",
    "    # ia, ib, ic = indices of corner points of the\n",
    "    # triangle\n",
    "    for ia, ib, ic in tri.vertices:\n",
    "        pa = coords[ia]\n",
    "        pb = coords[ib]\n",
    "        pc = coords[ic]\n",
    "        # Lengths of sides of triangle\n",
    "        a = math.sqrt((pa[0]-pb[0])**2 + (pa[1]-pb[1])**2)\n",
    "        b = math.sqrt((pb[0]-pc[0])**2 + (pb[1]-pc[1])**2)\n",
    "        c = math.sqrt((pc[0]-pa[0])**2 + (pc[1]-pa[1])**2)\n",
    "        # Semiperimeter of triangle\n",
    "        s = (a + b + c)/2.0\n",
    "        # Area of triangle by Heron's formula\n",
    "        area = math.sqrt(s*(s-a)*(s-b)*(s-c))\n",
    "        circum_r = a*b*c/(4.0*area)\n",
    "        # Here's the radius filter.\n",
    "        #print circum_r\n",
    "        if circum_r < 1.0/alpha:\n",
    "            add_edge(edges, edge_points, coords, ia, ib)\n",
    "            add_edge(edges, edge_points, coords, ib, ic)\n",
    "            add_edge(edges, edge_points, coords, ic, ia)\n",
    "    m = geometry.MultiLineString(edge_points)\n",
    "    triangles = list(polygonize(m))\n",
    "    return cascaded_union(triangles), edge_points\n",
    "concave_hull, edge_points = alpha_shape(points,\n",
    "                                        alpha=1.87)\n",
    "_ = plot_polygon(concave_hull)\n",
    "_ = pl.plot(x,y,'o', color='#f16824')"
   ]
  },
  {
   "cell_type": "code",
   "execution_count": null,
   "metadata": {},
   "outputs": [],
   "source": [
    "input_shapefile = 'demo_poly_scaled_points_join.shp'\n",
    "new_shapefile = fiona.open(input_shapefile)\n",
    "new_points = [geometry.shape(point['geometry'])\n",
    "              for point in new_shapefile]\n",
    "x = [p.coords.xy[0] for p in new_points]\n",
    "y = [p.coords.xy[1] for p in new_points]\n",
    "pl.figure(figsize=(10,10))\n",
    "_ = pl.plot(x,y,'o', color='#f16824')"
   ]
  },
  {
   "cell_type": "code",
   "execution_count": null,
   "metadata": {},
   "outputs": [],
   "source": [
    "from matplotlib.collections import LineCollection\n",
    "for i in range(9):\n",
    "    alpha = (i+1)*.1\n",
    "    concave_hull, edge_points = alpha_shape(new_points,\n",
    "                                            alpha=alpha)\n",
    "    #print concave_hull\n",
    "    lines = LineCollection(edge_points)\n",
    "    pl.figure(figsize=(10,10))\n",
    "    pl.title('Alpha={0} Delaunay triangulation'.format(\n",
    "        alpha))\n",
    "    pl.gca().add_collection(lines)\n",
    "    delaunay_points = np.array([point.coords[0]\n",
    "                                for point in new_points])\n",
    "    pl.plot(delaunay_points[:,0], delaunay_points[:,1],\n",
    "            'o', hold=1, color='#f16824')\n",
    "\n",
    "    _ = plot_polygon(concave_hull)\n",
    "    _ = pl.plot(x,y,'o', color='#f16824')"
   ]
  },
  {
   "cell_type": "code",
   "execution_count": null,
   "metadata": {},
   "outputs": [],
   "source": [
    "alpha = .4\n",
    "concave_hull, edge_points = alpha_shape(new_points,\n",
    "                                        alpha=alpha)\n",
    "\n",
    "plot_polygon(concave_hull)\n",
    "_ = pl.plot(x,y,'o', color='#f16824')\n",
    "plot_polygon(concave_hull.buffer(1))\n",
    "_ = pl.plot(x,y,'o', color='#f16824')"
   ]
  }
 ],
 "metadata": {
  "kernelspec": {
   "display_name": "Python 2",
   "language": "python",
   "name": "python2"
  },
  "language_info": {
   "codemirror_mode": {
    "name": "ipython",
    "version": 2
   },
   "file_extension": ".py",
   "mimetype": "text/x-python",
   "name": "python",
   "nbconvert_exporter": "python",
   "pygments_lexer": "ipython2",
   "version": "2.7.6"
  }
 },
 "nbformat": 4,
 "nbformat_minor": 0
}
